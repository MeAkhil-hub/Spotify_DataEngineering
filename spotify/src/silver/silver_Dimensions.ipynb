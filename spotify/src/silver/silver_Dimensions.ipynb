{
 "cells": [
  {
   "cell_type": "markdown",
   "metadata": {
    "application/vnd.databricks.v1+cell": {
     "cellMetadata": {
      "byteLimit": 2048000,
      "rowLimit": 10000
     },
     "inputWidgets": {},
     "nuid": "8fe06b7e-5a8f-4c18-9414-44bbecc37951",
     "showTitle": false,
     "tableResultSettingsMap": {},
     "title": ""
    }
   },
   "source": [
    "#DimUser"
   ]
  },
  {
   "cell_type": "code",
   "execution_count": 0,
   "metadata": {
    "application/vnd.databricks.v1+cell": {
     "cellMetadata": {
      "byteLimit": 2048000,
      "rowLimit": 10000
     },
     "inputWidgets": {},
     "nuid": "09000f1d-92b6-4d98-8294-fa1e6decf34c",
     "showTitle": false,
     "tableResultSettingsMap": {},
     "title": ""
    }
   },
   "outputs": [],
   "source": [
    "df = spark.read.format(\"parquet\")\\\n",
    "          .load(\"abfss://bronze@spotifystorageaccount01.dfs.core.windows.net/DimUser\")"
   ]
  },
  {
   "cell_type": "code",
   "execution_count": 0,
   "metadata": {
    "application/vnd.databricks.v1+cell": {
     "cellMetadata": {
      "byteLimit": 2048000,
      "rowLimit": 10000
     },
     "collapsed": true,
     "inputWidgets": {},
     "nuid": "481a142e-b577-4fae-8038-8aa9027cbeca",
     "showTitle": false,
     "tableResultSettingsMap": {},
     "title": ""
    }
   },
   "outputs": [],
   "source": [
    "display(df)"
   ]
  },
  {
   "cell_type": "markdown",
   "metadata": {
    "application/vnd.databricks.v1+cell": {
     "cellMetadata": {
      "byteLimit": 2048000,
      "rowLimit": 10000
     },
     "inputWidgets": {},
     "nuid": "92f29b05-85f8-4da7-a6b7-d4261e9e5765",
     "showTitle": false,
     "tableResultSettingsMap": {},
     "title": ""
    }
   },
   "source": [
    "### Import Spark Libraries"
   ]
  },
  {
   "cell_type": "code",
   "execution_count": 0,
   "metadata": {
    "application/vnd.databricks.v1+cell": {
     "cellMetadata": {
      "byteLimit": 2048000,
      "rowLimit": 10000
     },
     "inputWidgets": {},
     "nuid": "23eb6863-b291-428c-8282-520ba90c1a8f",
     "showTitle": false,
     "tableResultSettingsMap": {},
     "title": ""
    }
   },
   "outputs": [],
   "source": [
    "from pyspark.sql.functions import *\n",
    "from pyspark.sql.types import *\n",
    "\n",
    "import os\n",
    "import sys\n",
    "\n",
    "project_path = os.path.join(os.getcwd(),'..','..')\n",
    "sys.path.append(project_path)\n"
   ]
  },
  {
   "cell_type": "code",
   "execution_count": 0,
   "metadata": {
    "application/vnd.databricks.v1+cell": {
     "cellMetadata": {
      "byteLimit": 2048000,
      "rowLimit": 10000
     },
     "inputWidgets": {},
     "nuid": "38d9ca0c-a20b-4c89-a9df-46575b44da04",
     "showTitle": false,
     "tableResultSettingsMap": {},
     "title": ""
    }
   },
   "outputs": [],
   "source": [
    "import sys\n",
    "sys.path.append('/Workspace/Users/akhil.ramireddy@outlook.com/spotify')\n",
    "from Utils.Transformations import reusable"
   ]
  },
  {
   "cell_type": "markdown",
   "metadata": {
    "application/vnd.databricks.v1+cell": {
     "cellMetadata": {
      "byteLimit": 2048000,
      "rowLimit": 10000
     },
     "inputWidgets": {},
     "nuid": "1e4f2834-b1b9-4f21-b103-aeb0670b9c0c",
     "showTitle": false,
     "tableResultSettingsMap": {},
     "title": ""
    }
   },
   "source": [
    "#AutoLoader\n"
   ]
  },
  {
   "cell_type": "code",
   "execution_count": 0,
   "metadata": {
    "application/vnd.databricks.v1+cell": {
     "cellMetadata": {
      "byteLimit": 2048000,
      "rowLimit": 10000
     },
     "inputWidgets": {},
     "nuid": "948cc7c0-d42e-4d19-8967-7978abbb9af4",
     "showTitle": false,
     "tableResultSettingsMap": {},
     "title": ""
    }
   },
   "outputs": [],
   "source": [
    "df_user = spark.readStream.format(\"cloudFiles\")\\\n",
    "               .option(\"cloudFiles.format\", \"parquet\")\\\n",
    "               .option(\"cloudFiles.schemaLocation\",\"abfss://silver@spotifystorageaccount01.dfs.core.windows.net/DimUser/checkpoint\")\\\n",
    "               .option(\"schemaEvaluationMode\", \"addColumns\")\\\n",
    "               .load(\"abfss://bronze@spotifystorageaccount01.dfs.core.windows.net/DimUser\")"
   ]
  },
  {
   "cell_type": "code",
   "execution_count": 0,
   "metadata": {
    "application/vnd.databricks.v1+cell": {
     "cellMetadata": {
      "byteLimit": 2048000,
      "rowLimit": 10000
     },
     "inputWidgets": {},
     "nuid": "86d8da9c-3b2b-44e3-a107-4d5ee5878492",
     "showTitle": false,
     "tableResultSettingsMap": {},
     "title": ""
    }
   },
   "outputs": [],
   "source": [
    "display(df_user)"
   ]
  },
  {
   "cell_type": "code",
   "execution_count": 0,
   "metadata": {
    "application/vnd.databricks.v1+cell": {
     "cellMetadata": {
      "byteLimit": 2048000,
      "rowLimit": 10000
     },
     "inputWidgets": {},
     "nuid": "fa422c86-7fed-4bff-ae45-02011beda7cb",
     "showTitle": false,
     "tableResultSettingsMap": {},
     "title": ""
    }
   },
   "outputs": [],
   "source": [
    "df_user = df_user.withColumn(\"user_name\",upper(col(\"user_name\")))\n",
    "display(df_user)"
   ]
  },
  {
   "cell_type": "code",
   "execution_count": 0,
   "metadata": {
    "application/vnd.databricks.v1+cell": {
     "cellMetadata": {
      "byteLimit": 2048000,
      "rowLimit": 10000
     },
     "inputWidgets": {},
     "nuid": "193ef57d-da4b-4a7c-a284-eea144ba7fa2",
     "showTitle": false,
     "tableResultSettingsMap": {},
     "title": ""
    }
   },
   "outputs": [],
   "source": [
    "df_user_obj = reusable()\n",
    "\n",
    "df_user = df_user_obj.dropColumns(df_user,['_rescued_data'])\n",
    "df_user = df_user.dropDuplicates(['user_id'])\n",
    "display(df_user)"
   ]
  },
  {
   "cell_type": "code",
   "execution_count": 0,
   "metadata": {
    "application/vnd.databricks.v1+cell": {
     "cellMetadata": {
      "byteLimit": 2048000,
      "rowLimit": 10000
     },
     "inputWidgets": {},
     "nuid": "93700e3d-6326-4526-b56f-01e0773c198f",
     "showTitle": false,
     "tableResultSettingsMap": {},
     "title": ""
    }
   },
   "outputs": [],
   "source": [
    "df_user.writeStream.format(\"delta\")\\\n",
    "       .outputMode(\"append\")\\\n",
    "       .option(\"checkpointLocation\", \"abfss://silver@spotifystorageaccount01.dfs.core.windows.net/DimUser/checkpoint\")\\\n",
    "       .trigger(once=True)\\\n",
    "       .option(\"path\", \"abfss://silver@spotifystorageaccount01.dfs.core.windows.net/DimUser/data\")\\\n",
    "       .toTable(\"spotify_catalog.silver.DimUser\")\n",
    "       "
   ]
  },
  {
   "cell_type": "markdown",
   "metadata": {
    "application/vnd.databricks.v1+cell": {
     "cellMetadata": {
      "byteLimit": 2048000,
      "rowLimit": 10000
     },
     "inputWidgets": {},
     "nuid": "b7cf3ae8-d9ef-4463-ba41-36472710ae0c",
     "showTitle": false,
     "tableResultSettingsMap": {},
     "title": ""
    }
   },
   "source": [
    "#DimArtist"
   ]
  },
  {
   "cell_type": "code",
   "execution_count": 0,
   "metadata": {
    "application/vnd.databricks.v1+cell": {
     "cellMetadata": {
      "byteLimit": 2048000,
      "rowLimit": 10000
     },
     "inputWidgets": {},
     "nuid": "9b2622dc-afae-4bb4-b292-20a4bca5c043",
     "showTitle": false,
     "tableResultSettingsMap": {},
     "title": ""
    }
   },
   "outputs": [],
   "source": [
    "df_artist = spark.readStream.format(\"cloudFiles\")\\\n",
    "               .option(\"cloudFiles.format\", \"parquet\")\\\n",
    "               .option(\"cloudFiles.schemaLocation\",\"abfss://silver@spotifystorageaccount01.dfs.core.windows.net/DimArtist/checkpoint\")\\\n",
    "                .option(\"schemaEvaluationMode\", \"addColumns\")\\\n",
    "               .load(\"abfss://bronze@spotifystorageaccount01.dfs.core.windows.net/DimArtist\")"
   ]
  },
  {
   "cell_type": "code",
   "execution_count": 0,
   "metadata": {
    "application/vnd.databricks.v1+cell": {
     "cellMetadata": {
      "byteLimit": 2048000,
      "rowLimit": 10000
     },
     "inputWidgets": {},
     "nuid": "ad6d1c4b-dd56-4abe-861d-02da37cd984e",
     "showTitle": false,
     "tableResultSettingsMap": {},
     "title": ""
    }
   },
   "outputs": [],
   "source": [
    "display(df_artist)"
   ]
  },
  {
   "cell_type": "code",
   "execution_count": 0,
   "metadata": {
    "application/vnd.databricks.v1+cell": {
     "cellMetadata": {
      "byteLimit": 2048000,
      "rowLimit": 10000
     },
     "inputWidgets": {},
     "nuid": "6e829186-8068-4189-867b-3c03581fbb03",
     "showTitle": false,
     "tableResultSettingsMap": {},
     "title": ""
    }
   },
   "outputs": [],
   "source": [
    "df_artist = df_artist.withColumn(\"artist_name\", upper(col(\"artist_name\")))\n",
    "\n",
    "display(df_artist)"
   ]
  },
  {
   "cell_type": "code",
   "execution_count": 0,
   "metadata": {
    "application/vnd.databricks.v1+cell": {
     "cellMetadata": {
      "byteLimit": 2048000,
      "rowLimit": 10000
     },
     "collapsed": true,
     "inputWidgets": {},
     "nuid": "985f3487-cb38-43ec-938e-ab90368f450d",
     "showTitle": false,
     "tableResultSettingsMap": {},
     "title": ""
    }
   },
   "outputs": [],
   "source": [
    "df_artist_obj = reusable()\n",
    "\n",
    "df_artist = df_artist_obj.dropColumns(df_artist, ['_rescued_data'])\n",
    "df_artist = df_artist.dropDuplicates(['artist_id'])\n",
    "\n",
    "display(df_artist)"
   ]
  },
  {
   "cell_type": "code",
   "execution_count": 0,
   "metadata": {
    "application/vnd.databricks.v1+cell": {
     "cellMetadata": {
      "byteLimit": 2048000,
      "rowLimit": 10000
     },
     "inputWidgets": {},
     "nuid": "b7418e39-9060-4a68-bc4b-9a8e58de3fc6",
     "showTitle": false,
     "tableResultSettingsMap": {},
     "title": ""
    }
   },
   "outputs": [],
   "source": [
    "df_artist.writeStream.format(\"delta\")\\\n",
    "       .outputMode(\"append\")\\\n",
    "       .option(\"checkpointLocation\", \"abfss://silver@spotifystorageaccount01.dfs.core.windows.net/DimArtist/checkpoint\")\\\n",
    "       .trigger(once=True)\\\n",
    "       .option(\"path\", \"abfss://silver@spotifystorageaccount01.dfs.core.windows.net/DimArtist/data\")\\\n",
    "       .toTable(\"spotify_catalog.silver.DimArtist\")\n",
    "       \n",
    "       "
   ]
  },
  {
   "cell_type": "markdown",
   "metadata": {
    "application/vnd.databricks.v1+cell": {
     "cellMetadata": {
      "byteLimit": 2048000,
      "rowLimit": 10000
     },
     "inputWidgets": {},
     "nuid": "15f6e891-8224-4878-8574-e3b0883e3783",
     "showTitle": false,
     "tableResultSettingsMap": {},
     "title": ""
    }
   },
   "source": [
    "#DimTrack"
   ]
  },
  {
   "cell_type": "code",
   "execution_count": 0,
   "metadata": {
    "application/vnd.databricks.v1+cell": {
     "cellMetadata": {
      "byteLimit": 2048000,
      "rowLimit": 10000
     },
     "inputWidgets": {},
     "nuid": "80747252-c34f-40a8-8f6f-48ca2922cf5f",
     "showTitle": false,
     "tableResultSettingsMap": {},
     "title": ""
    }
   },
   "outputs": [],
   "source": [
    "df_track = spark.readStream.format(\"cloudFiles\")\\\n",
    "               .option(\"cloudFiles.format\", \"parquet\")\\\n",
    "               .option(\"cloudFiles.schemaLocation\",\"abfss://silver@spotifystorageaccount01.dfs.core.windows.net/DimTrack/checkpoint\")\\\n",
    "               .option(\"schemaEvaluationMode\", \"addColumns\")\\\n",
    "               .load(\"abfss://bronze@spotifystorageaccount01.dfs.core.windows.net/DimTrack\")"
   ]
  },
  {
   "cell_type": "code",
   "execution_count": 0,
   "metadata": {
    "application/vnd.databricks.v1+cell": {
     "cellMetadata": {
      "byteLimit": 2048000,
      "rowLimit": 10000
     },
     "collapsed": true,
     "inputWidgets": {},
     "nuid": "26a884c7-a859-4202-a7db-767e0aac7fc4",
     "showTitle": false,
     "tableResultSettingsMap": {},
     "title": ""
    }
   },
   "outputs": [],
   "source": [
    "display(df_track)\n"
   ]
  },
  {
   "cell_type": "code",
   "execution_count": 0,
   "metadata": {
    "application/vnd.databricks.v1+cell": {
     "cellMetadata": {
      "byteLimit": 2048000,
      "rowLimit": 10000
     },
     "inputWidgets": {},
     "nuid": "9662c545-4f6b-4cab-95b8-e58a7aba8577",
     "showTitle": false,
     "tableResultSettingsMap": {},
     "title": ""
    }
   },
   "outputs": [],
   "source": [
    "df_track = df_track.withColumn(\"durationFlag\",when(col(\"duration_sec\")<150,\"low\")\\\n",
    "                                             .when(col(\"duration_sec\")<300,\"medium\")\\\n",
    "                                             .otherwise(\"high\"))\n",
    "\n",
    "\n",
    "df_track = df_track.withColumn(\"track_name\", regexp_replace(col(\"track_name\"), \"-\", \" \"))\n",
    "\n",
    "display(df_track)"
   ]
  },
  {
   "cell_type": "code",
   "execution_count": 0,
   "metadata": {
    "application/vnd.databricks.v1+cell": {
     "cellMetadata": {
      "byteLimit": 2048000,
      "rowLimit": 10000
     },
     "inputWidgets": {},
     "nuid": "878fa0da-cc6b-4841-8177-a18f6a8421b3",
     "showTitle": false,
     "tableResultSettingsMap": {},
     "title": ""
    }
   },
   "outputs": [],
   "source": [
    "df_track_obj = reusable()\n",
    "\n",
    "df_track = df_track_obj.dropColumns(df_track, ['_rescued_data'])\n",
    "df_track = df_track.dropDuplicates(['artist_id'])\n",
    "\n",
    "display(df_track)"
   ]
  },
  {
   "cell_type": "code",
   "execution_count": 0,
   "metadata": {
    "application/vnd.databricks.v1+cell": {
     "cellMetadata": {
      "byteLimit": 2048000,
      "rowLimit": 10000
     },
     "inputWidgets": {},
     "nuid": "1460902f-3206-41ff-9ec2-d805c6219e11",
     "showTitle": false,
     "tableResultSettingsMap": {},
     "title": ""
    }
   },
   "outputs": [],
   "source": [
    "df_track.writeStream.format(\"delta\")\\\n",
    "       .outputMode(\"append\")\\\n",
    "       .option(\"checkpointLocation\", \"abfss://silver@spotifystorageaccount01.dfs.core.windows.net/DimTrack/checkpoint\")\\\n",
    "       .trigger(once=True)\\\n",
    "       .option(\"path\", \"abfss://silver@spotifystorageaccount01.dfs.core.windows.net/DimTrack/data\")\\\n",
    "       .toTable(\"spotify_catalog.silver.DimTrack\")\n",
    "       "
   ]
  },
  {
   "cell_type": "markdown",
   "metadata": {
    "application/vnd.databricks.v1+cell": {
     "cellMetadata": {
      "byteLimit": 2048000,
      "rowLimit": 10000
     },
     "inputWidgets": {},
     "nuid": "b8c2ca85-baa4-4638-a01c-720ceef1eb8d",
     "showTitle": false,
     "tableResultSettingsMap": {},
     "title": ""
    }
   },
   "source": [
    "#DimDate\n"
   ]
  },
  {
   "cell_type": "code",
   "execution_count": 0,
   "metadata": {
    "application/vnd.databricks.v1+cell": {
     "cellMetadata": {
      "byteLimit": 2048000,
      "rowLimit": 10000
     },
     "inputWidgets": {},
     "nuid": "b9ef27db-713f-43cc-abd2-5136bc8024cc",
     "showTitle": false,
     "tableResultSettingsMap": {},
     "title": ""
    }
   },
   "outputs": [],
   "source": [
    "df_date = spark.readStream.format(\"cloudFiles\")\\\n",
    "               .option(\"cloudFiles.format\", \"parquet\")\\\n",
    "               .option(\"cloudFiles.schemaLocation\",\"abfss://silver@spotifystorageaccount01.dfs.core.windows.net/DimDate/checkpoint\")\\\n",
    "               .option(\"schemaEvaluationMode\", \"addColumns\")\\\n",
    "               .load(\"abfss://bronze@spotifystorageaccount01.dfs.core.windows.net/DimDate\")"
   ]
  },
  {
   "cell_type": "code",
   "execution_count": 0,
   "metadata": {
    "application/vnd.databricks.v1+cell": {
     "cellMetadata": {
      "byteLimit": 2048000,
      "rowLimit": 10000
     },
     "inputWidgets": {},
     "nuid": "830aea68-0418-4aae-a894-0df00e535d4d",
     "showTitle": false,
     "tableResultSettingsMap": {},
     "title": ""
    }
   },
   "outputs": [],
   "source": [
    "display(df_date)"
   ]
  },
  {
   "cell_type": "code",
   "execution_count": 0,
   "metadata": {
    "application/vnd.databricks.v1+cell": {
     "cellMetadata": {
      "byteLimit": 2048000,
      "rowLimit": 10000
     },
     "inputWidgets": {},
     "nuid": "1fbb13fb-55bf-4a71-a8db-fb34d0255ed5",
     "showTitle": false,
     "tableResultSettingsMap": {
      "0": {
       "dataGridStateBlob": "{\"version\":1,\"tableState\":{\"columnPinning\":{\"left\":[\"#row_number#\"],\"right\":[]},\"columnSizing\":{},\"columnVisibility\":{}},\"settings\":{\"columns\":{}},\"syncTimestamp\":1760804605741}",
       "filterBlob": null,
       "queryPlanFiltersBlob": null,
       "tableResultIndex": 0
      }
     },
     "title": ""
    }
   },
   "outputs": [],
   "source": [
    "df_date_obj = reusable()\n",
    "\n",
    "df_date = df_date_obj.dropColumns(df_date, ['_rescued_data'])\n",
    "\n",
    "display(df_date)"
   ]
  },
  {
   "cell_type": "code",
   "execution_count": 0,
   "metadata": {
    "application/vnd.databricks.v1+cell": {
     "cellMetadata": {
      "byteLimit": 2048000,
      "rowLimit": 10000
     },
     "inputWidgets": {},
     "nuid": "8242eeb2-d578-4129-96f5-265a5b32c517",
     "showTitle": false,
     "tableResultSettingsMap": {},
     "title": ""
    }
   },
   "outputs": [],
   "source": [
    "df_date.writeStream.format(\"delta\")\\\n",
    "       .outputMode(\"append\")\\\n",
    "       .option(\"checkpointLocation\", \"abfss://silver@spotifystorageaccount01.dfs.core.windows.net/DimDate/checkpoint\")\\\n",
    "       .trigger(once=True)\\\n",
    "       .option(\"path\", \"abfss://silver@spotifystorageaccount01.dfs.core.windows.net/DimDate/data\")\\\n",
    "       .toTable(\"spotify_catalog.silver.DimDate\")\n",
    "       "
   ]
  },
  {
   "cell_type": "markdown",
   "metadata": {
    "application/vnd.databricks.v1+cell": {
     "cellMetadata": {
      "byteLimit": 2048000,
      "rowLimit": 10000
     },
     "inputWidgets": {},
     "nuid": "2d2b5967-d752-4d69-a0cb-231b063a6351",
     "showTitle": false,
     "tableResultSettingsMap": {},
     "title": ""
    }
   },
   "source": [
    "# FactStream"
   ]
  },
  {
   "cell_type": "code",
   "execution_count": 0,
   "metadata": {
    "application/vnd.databricks.v1+cell": {
     "cellMetadata": {
      "byteLimit": 2048000,
      "rowLimit": 10000
     },
     "inputWidgets": {},
     "nuid": "4771e8eb-9b42-4510-8b7f-02bd5ed4cee8",
     "showTitle": false,
     "tableResultSettingsMap": {},
     "title": ""
    }
   },
   "outputs": [],
   "source": [
    "df_fs = spark.readStream.format(\"cloudFiles\")\\\n",
    "               .option(\"cloudFiles.format\", \"parquet\")\\\n",
    "               .option(\"cloudFiles.schemaLocation\",\"abfss://silver@spotifystorageaccount01.dfs.core.windows.net/FactStream/checkpoint\")\\\n",
    "               .option(\"schemaEvaluationMode\", \"addColumns\")\\\n",
    "               .load(\"abfss://bronze@spotifystorageaccount01.dfs.core.windows.net/FactStream\")"
   ]
  },
  {
   "cell_type": "code",
   "execution_count": 0,
   "metadata": {
    "application/vnd.databricks.v1+cell": {
     "cellMetadata": {
      "byteLimit": 2048000,
      "rowLimit": 10000
     },
     "inputWidgets": {},
     "nuid": "e01deb43-a86c-48de-85d5-7af6c8a3314f",
     "showTitle": false,
     "tableResultSettingsMap": {},
     "title": ""
    }
   },
   "outputs": [],
   "source": [
    "display(df_fs)"
   ]
  },
  {
   "cell_type": "code",
   "execution_count": 0,
   "metadata": {
    "application/vnd.databricks.v1+cell": {
     "cellMetadata": {
      "byteLimit": 2048000,
      "rowLimit": 10000
     },
     "inputWidgets": {},
     "nuid": "982290a3-a2ff-4fc4-897a-7f1d966b9d62",
     "showTitle": false,
     "tableResultSettingsMap": {},
     "title": ""
    }
   },
   "outputs": [],
   "source": [
    "df_fs_obj = reusable()\n",
    "\n",
    "df_fs = df_fs_obj.dropColumns(df_fs, ['_rescued_data'])\n",
    "\n",
    "display(df_fs)"
   ]
  },
  {
   "cell_type": "code",
   "execution_count": 0,
   "metadata": {
    "application/vnd.databricks.v1+cell": {
     "cellMetadata": {
      "byteLimit": 2048000,
      "rowLimit": 10000
     },
     "inputWidgets": {},
     "nuid": "7d249aa5-fc00-400b-b66f-03f58fb24476",
     "showTitle": false,
     "tableResultSettingsMap": {},
     "title": ""
    }
   },
   "outputs": [],
   "source": [
    "df_fs.writeStream.format(\"delta\")\\\n",
    "       .outputMode(\"append\")\\\n",
    "       .option(\"checkpointLocation\", \"abfss://silver@spotifystorageaccount01.dfs.core.windows.net/FactStream/checkpoint\")\\\n",
    "       .trigger(once=True)\\\n",
    "       .option(\"path\", \"abfss://silver@spotifystorageaccount01.dfs.core.windows.net/FactStream/data\")\\\n",
    "       .toTable(\"spotify_catalog.silver.FactStream\")\n",
    "       "
   ]
  }
 ],
 "metadata": {
  "application/vnd.databricks.v1+notebook": {
   "computePreferences": {
    "hardware": {
     "accelerator": null,
     "gpuPoolId": null,
     "memory": null
    }
   },
   "dashboards": [],
   "environmentMetadata": {
    "base_environment": "",
    "environment_version": "4"
   },
   "inputWidgetPreferences": null,
   "language": "python",
   "notebookMetadata": {
    "pythonIndentUnit": 4
   },
   "notebookName": "silver_Dimensions",
   "widgets": {}
  },
  "language_info": {
   "name": "python"
  }
 },
 "nbformat": 4,
 "nbformat_minor": 0
}
