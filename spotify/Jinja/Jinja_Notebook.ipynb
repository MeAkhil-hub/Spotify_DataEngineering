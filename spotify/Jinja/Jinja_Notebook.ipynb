{
 "cells": [
  {
   "cell_type": "code",
   "execution_count": 0,
   "metadata": {
    "application/vnd.databricks.v1+cell": {
     "cellMetadata": {
      "byteLimit": 2048000,
      "rowLimit": 10000
     },
     "inputWidgets": {},
     "nuid": "1536bade-caf4-4125-9bb3-f257146d3f6d",
     "showTitle": false,
     "tableResultSettingsMap": {},
     "title": ""
    }
   },
   "outputs": [],
   "source": [
    "parameters = [\n",
    "\n",
    "  {\n",
    "      \"table\" : \"spotify_catalog.silver.factstream\",\n",
    "      \"alias\" : \"factstream\",\n",
    "      \"columns\" : \"factstream.stream_id,factstream.listen_duration\"\n",
    "\n",
    "\n",
    "  },\n",
    "\n",
    "  {\n",
    "      \"table\" : \"spotify_catalog.silver.dimuser\",\n",
    "      \"alias\" : \"dimuser\",\n",
    "      \"columns\" : \"dimuser.user_id, dimuser.user_name\",\n",
    "      \"condition\" : \"factstream.user_id = dimuser.user_id\"\n",
    "\n",
    "  },\n",
    "\n",
    "  {\n",
    "      \"table\" : \"spotify_catalog.silver.dimtrack\",\n",
    "      \"alias\" : \"dimtrack\",\n",
    "      \"columns\" : \"dimtrack.track_id, dimtrack.track_name\",\n",
    "      \"condition\" : \"factstream.track_id = dimtrack.track_id\"\n",
    "  }\n",
    "\n",
    "\n",
    "]"
   ]
  },
  {
   "cell_type": "code",
   "execution_count": 0,
   "metadata": {
    "application/vnd.databricks.v1+cell": {
     "cellMetadata": {
      "byteLimit": 2048000,
      "rowLimit": 10000
     },
     "inputWidgets": {},
     "nuid": "75ba7435-06d5-4b8e-bc4b-5930ac88c0f2",
     "showTitle": false,
     "tableResultSettingsMap": {},
     "title": ""
    }
   },
   "outputs": [],
   "source": [
    "pip install jinja2"
   ]
  },
  {
   "cell_type": "code",
   "execution_count": 0,
   "metadata": {
    "application/vnd.databricks.v1+cell": {
     "cellMetadata": {
      "byteLimit": 2048000,
      "rowLimit": 10000
     },
     "inputWidgets": {},
     "nuid": "830c9fba-b1f7-47ba-894c-25eaeb75aa96",
     "showTitle": false,
     "tableResultSettingsMap": {},
     "title": ""
    }
   },
   "outputs": [],
   "source": [
    "from jinja2 import Template"
   ]
  },
  {
   "cell_type": "code",
   "execution_count": 0,
   "metadata": {
    "application/vnd.databricks.v1+cell": {
     "cellMetadata": {
      "byteLimit": 2048000,
      "rowLimit": 10000
     },
     "inputWidgets": {},
     "nuid": "ec4bf3fd-c949-4bd2-8bc3-206c7101e34d",
     "showTitle": false,
     "tableResultSettingsMap": {},
     "title": ""
    }
   },
   "outputs": [],
   "source": [
    "query_text = \"\"\"\n",
    "\n",
    "         SELECT \n",
    "              {% for param in parameters %}\n",
    "              {{ param.columns }}\n",
    "                 {% if not loop.last %}\n",
    "                      ,\n",
    "                {% endif %}\n",
    "              {% endfor %}\n",
    "\n",
    "        FROM \n",
    "              {% for param in parameters %}\n",
    "                    {% if loop.first %}\n",
    "                    {{ param['table'] }} AS {{ param['alias'] }}\n",
    "                    {% endif %}\n",
    "             {% endfor %}\n",
    "\n",
    "             {% for param in parameters %}\n",
    "              {% if not loop.first %}\n",
    "         LEFT JOIN \n",
    "                {{ param['table'] }} AS {{ param['alias']}} \n",
    "                    ON \n",
    "                    \n",
    "                {{ param['condition'] }} \n",
    "                {% endif %}\n",
    "                {% endfor %}\n",
    "\n",
    "\n",
    "\"\"\"\n"
   ]
  },
  {
   "cell_type": "code",
   "execution_count": 0,
   "metadata": {
    "application/vnd.databricks.v1+cell": {
     "cellMetadata": {
      "byteLimit": 2048000,
      "rowLimit": 10000
     },
     "inputWidgets": {},
     "nuid": "d559f18d-8717-40a1-b46a-4d57ea2b72e4",
     "showTitle": false,
     "tableResultSettingsMap": {},
     "title": ""
    }
   },
   "outputs": [],
   "source": [
    "jinja_sql_str = Template(query_text)\n",
    "query = jinja_sql_str.render(parameters=parameters)\n",
    "print(query)"
   ]
  },
  {
   "cell_type": "code",
   "execution_count": 0,
   "metadata": {
    "application/vnd.databricks.v1+cell": {
     "cellMetadata": {
      "byteLimit": 2048000,
      "rowLimit": 10000
     },
     "inputWidgets": {},
     "nuid": "0036639c-099b-411f-9df3-5a3add4e4869",
     "showTitle": false,
     "tableResultSettingsMap": {},
     "title": ""
    }
   },
   "outputs": [],
   "source": [
    "display(spark.sql(query))"
   ]
  }
 ],
 "metadata": {
  "application/vnd.databricks.v1+notebook": {
   "computePreferences": null,
   "dashboards": [],
   "environmentMetadata": {
    "base_environment": "",
    "environment_version": "4"
   },
   "inputWidgetPreferences": null,
   "language": "python",
   "notebookMetadata": {
    "pythonIndentUnit": 4
   },
   "notebookName": "Jinja_Notebook",
   "widgets": {}
  },
  "language_info": {
   "name": "python"
  }
 },
 "nbformat": 4,
 "nbformat_minor": 0
}
